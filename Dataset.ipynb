{
 "cells": [
  {
   "cell_type": "code",
   "execution_count": 2,
   "metadata": {},
   "outputs": [],
   "source": [
    "import tqdm\n",
    "import fiftyone as fo\n",
    "import fiftyone.brain as fob\n",
    "from fiftyone.types import FiftyOneVideoLabelsDataset\n",
    "import fiftyone.utils.video\n",
    "import fiftyone.utils.torch as fout\n",
    "from fiftyone import ViewField as F\n",
    "# /home/bea/miniconda3/envs/ptg/lib/python3.10/site-packages/fiftyone/brain/internal/core/utils.py\n",
    "# /home/bea/miniconda3/envs/ptg/lib/python3.10/site-packages/fiftyone/brain/internal/core/visualization.py"
   ]
  },
  {
   "cell_type": "code",
   "execution_count": 3,
   "metadata": {},
   "outputs": [],
   "source": [
    "RESOURCES_DIR = '/datasets'\n",
    "\n",
    "eta_dataset = '/datasets/Milly'\n",
    "export_dataset = '/datasets/Milly/object_labels'\n",
    "name = 'milly'\n",
    "max_samples=None"
   ]
  },
  {
   "cell_type": "code",
   "execution_count": 4,
   "metadata": {},
   "outputs": [
    {
     "name": "stdout",
     "output_type": "stream",
     "text": [
      " 100% |███████████████████| 10/10 [1.6m elapsed, 0s remaining, 0.1 samples/s]     \n"
     ]
    }
   ],
   "source": [
    "Importer = FiftyOneVideoLabelsDataset().get_dataset_importer_cls()\n",
    "video_dataset = fo.Dataset.from_importer(Importer(eta_dataset, max_samples=max_samples))"
   ]
  },
  {
   "cell_type": "code",
   "execution_count": 5,
   "metadata": {},
   "outputs": [
    {
     "name": "stdout",
     "output_type": "stream",
     "text": [
      "Computing metadata...\n",
      " 100% |███████████████████| 10/10 [492.1ms elapsed, 0s remaining, 20.3 samples/s] \n",
      "Setting 48596 frame filepaths on the input collection that exist on disk but are not recorded on the dataset\n"
     ]
    }
   ],
   "source": [
    "frames_dataset = video_dataset.to_frames(sample_frames=True)\n",
    "frames_dataset.persistent = True"
   ]
  },
  {
   "cell_type": "code",
   "execution_count": 6,
   "metadata": {},
   "outputs": [
    {
     "name": "stdout",
     "output_type": "stream",
     "text": [
      "Computing patch embeddings...\n",
      "  98% |████████████\\| 47732/48596 [3.3m elapsed, 4.0s remaining, 215.4 samples/s]  "
     ]
    }
   ],
   "source": [
    "sim_idx = fiftyone.brain.compute_similarity(\n",
    "    frames_dataset, \n",
    "    patches_field=\"detections\", \n",
    "    brain_key=\"emb_sim\",\n",
    "    model=\"clip-vit-base32-torch\",\n",
    "    batch_size=256, \n",
    "    backend='lancedb',\n",
    ")"
   ]
  },
  {
   "cell_type": "code",
   "execution_count": null,
   "metadata": {},
   "outputs": [
    {
     "name": "stdout",
     "output_type": "stream",
     "text": [
      "Generating visualization...\n"
     ]
    },
    {
     "name": "stderr",
     "output_type": "stream",
     "text": [
      "/home/bea/.local/lib/python3.10/site-packages/umap/distances.py:1063: NumbaDeprecationWarning: The 'nopython' keyword argument was not supplied to the 'numba.jit' decorator. The implicit default value for this argument is currently False, but it will be changed to True in Numba 0.59.0. See https://numba.readthedocs.io/en/stable/reference/deprecation.html#deprecation-of-object-mode-fall-back-behaviour-when-using-jit for details.\n",
      "  @numba.jit()\n",
      "/home/bea/.local/lib/python3.10/site-packages/umap/distances.py:1071: NumbaDeprecationWarning: The 'nopython' keyword argument was not supplied to the 'numba.jit' decorator. The implicit default value for this argument is currently False, but it will be changed to True in Numba 0.59.0. See https://numba.readthedocs.io/en/stable/reference/deprecation.html#deprecation-of-object-mode-fall-back-behaviour-when-using-jit for details.\n",
      "  @numba.jit()\n",
      "/home/bea/.local/lib/python3.10/site-packages/umap/distances.py:1086: NumbaDeprecationWarning: The 'nopython' keyword argument was not supplied to the 'numba.jit' decorator. The implicit default value for this argument is currently False, but it will be changed to True in Numba 0.59.0. See https://numba.readthedocs.io/en/stable/reference/deprecation.html#deprecation-of-object-mode-fall-back-behaviour-when-using-jit for details.\n",
      "  @numba.jit()\n",
      "/home/bea/.local/lib/python3.10/site-packages/tqdm/auto.py:21: TqdmWarning: IProgress not found. Please update jupyter and ipywidgets. See https://ipywidgets.readthedocs.io/en/stable/user_install.html\n",
      "  from .autonotebook import tqdm as notebook_tqdm\n",
      "/home/bea/.local/lib/python3.10/site-packages/umap/umap_.py:660: NumbaDeprecationWarning: The 'nopython' keyword argument was not supplied to the 'numba.jit' decorator. The implicit default value for this argument is currently False, but it will be changed to True in Numba 0.59.0. See https://numba.readthedocs.io/en/stable/reference/deprecation.html#deprecation-of-object-mode-fall-back-behaviour-when-using-jit for details.\n",
      "  @numba.jit()\n"
     ]
    },
    {
     "name": "stdout",
     "output_type": "stream",
     "text": [
      "UMAP( verbose=True)\n",
      "Wed Aug  9 10:28:35 2023 Construct fuzzy simplicial set\n",
      "Wed Aug  9 10:28:35 2023 Finding Nearest Neighbors\n",
      "Wed Aug  9 10:28:35 2023 Building RP forest with 24 trees\n",
      "Wed Aug  9 10:28:40 2023 NN descent for 17 iterations\n",
      "\t 1  /  17\n",
      "\t 2  /  17\n",
      "\t 3  /  17\n",
      "\tStopping threshold met -- exiting after 3 iterations\n",
      "Wed Aug  9 10:28:53 2023 Finished Nearest Neighbor Search\n",
      "Wed Aug  9 10:28:55 2023 Construct embedding\n"
     ]
    },
    {
     "name": "stderr",
     "output_type": "stream",
     "text": [
      "Epochs completed: 100%| ██████████ 200/200 [00:25]\n"
     ]
    },
    {
     "name": "stdout",
     "output_type": "stream",
     "text": [
      "Wed Aug  9 10:29:52 2023 Finished embedding\n"
     ]
    }
   ],
   "source": [
    "results = fob.compute_visualization(\n",
    "    frames_dataset, \n",
    "    embeddings=sim_idx,\n",
    "    patches_field=\"detections\", \n",
    "    model=\"clip-vit-base32-torch\",\n",
    "    brain_key=\"emb_viz\",\n",
    "    batch_size=256, \n",
    ")"
   ]
  },
  {
   "cell_type": "code",
   "execution_count": null,
   "metadata": {},
   "outputs": [],
   "source": [
    "# fob.compute_uniqueness(frames_dataset, roi_field='detections', embeddings=sim_idx)"
   ]
  },
  {
   "cell_type": "code",
   "execution_count": null,
   "metadata": {},
   "outputs": [],
   "source": [
    "# counts = frames_dataset.count_values(\"detections.detections.label\")\n",
    "# classes = sorted(counts, key=counts.get, reverse=True)[:10]\n",
    "# view = frames_dataset.filter_labels(\"detections\", F(\"label\").is_in(classes))"
   ]
  },
  {
   "cell_type": "code",
   "execution_count": null,
   "metadata": {},
   "outputs": [],
   "source": [
    "patches_dataset = frames_dataset.to_patches('detections')"
   ]
  },
  {
   "cell_type": "code",
   "execution_count": null,
   "metadata": {},
   "outputs": [],
   "source": []
  },
  {
   "cell_type": "code",
   "execution_count": 10,
   "metadata": {},
   "outputs": [
    {
     "name": "stdout",
     "output_type": "stream",
     "text": [
      "Computing embeddings...\n",
      " 100% |███████████| 149049/149049 [5.3m elapsed, 0s remaining, 502.6 samples/s]      \n",
      "Computing uniqueness...\n",
      "Computing neighbors for 149049 embeddings; this may take awhile...\n",
      "Uniqueness computation complete\n"
     ]
    }
   ],
   "source": [
    "fob.compute_uniqueness(patches_dataset)"
   ]
  },
  {
   "cell_type": "code",
   "execution_count": 11,
   "metadata": {},
   "outputs": [],
   "source": [
    "view = patches_dataset"
   ]
  },
  {
   "cell_type": "code",
   "execution_count": 12,
   "metadata": {},
   "outputs": [
    {
     "data": {
      "text/plain": [
       "Dataset:     2023.08.09.10.23.06\n",
       "Media type:  image\n",
       "Num patches: 149049\n",
       "Patch fields:\n",
       "    id:           fiftyone.core.fields.ObjectIdField\n",
       "    sample_id:    fiftyone.core.fields.ObjectIdField\n",
       "    frame_id:     fiftyone.core.fields.ObjectIdField\n",
       "    filepath:     fiftyone.core.fields.StringField\n",
       "    frame_number: fiftyone.core.fields.FrameNumberField\n",
       "    tags:         fiftyone.core.fields.ListField(fiftyone.core.fields.StringField)\n",
       "    metadata:     fiftyone.core.fields.EmbeddedDocumentField(fiftyone.core.metadata.ImageMetadata)\n",
       "    detections:   fiftyone.core.fields.EmbeddedDocumentField(fiftyone.core.labels.Detection)\n",
       "    uniqueness:   fiftyone.core.fields.FloatField\n",
       "View stages:\n",
       "    1. ToFrames(config={'sample_frames': True})\n",
       "    2. ToPatches(field='detections', config=None)"
      ]
     },
     "execution_count": 12,
     "metadata": {},
     "output_type": "execute_result"
    }
   ],
   "source": [
    "view"
   ]
  },
  {
   "cell_type": "code",
   "execution_count": 13,
   "metadata": {},
   "outputs": [
    {
     "data": {
      "text/html": [
       "\n",
       "        <iframe\n",
       "            width=\"100%\"\n",
       "            height=\"800\"\n",
       "            src=\"http://localhost:5151/?notebook=True&subscription=1877ea47-5b95-4ee7-bd1d-8f772225ccdf\"\n",
       "            frameborder=\"0\"\n",
       "            allowfullscreen\n",
       "            \n",
       "        ></iframe>\n",
       "        "
      ],
      "text/plain": [
       "<IPython.lib.display.IFrame at 0x7f368f72e5f0>"
      ]
     },
     "metadata": {},
     "output_type": "display_data"
    }
   ],
   "source": [
    "session = fo.launch_app(view)"
   ]
  },
  {
   "cell_type": "code",
   "execution_count": 14,
   "metadata": {},
   "outputs": [],
   "source": [
    "for sample in view:\n",
    "    if sample.detections.tags:\n",
    "        print(sample)"
   ]
  },
  {
   "cell_type": "code",
   "execution_count": 15,
   "metadata": {},
   "outputs": [
    {
     "data": {
      "text/plain": [
       "Dataset:     2023.08.09.10.23.06\n",
       "Media type:  image\n",
       "Num patches: 149049\n",
       "Patch fields:\n",
       "    id:           fiftyone.core.fields.ObjectIdField\n",
       "    sample_id:    fiftyone.core.fields.ObjectIdField\n",
       "    frame_id:     fiftyone.core.fields.ObjectIdField\n",
       "    filepath:     fiftyone.core.fields.StringField\n",
       "    frame_number: fiftyone.core.fields.FrameNumberField\n",
       "    tags:         fiftyone.core.fields.ListField(fiftyone.core.fields.StringField)\n",
       "    metadata:     fiftyone.core.fields.EmbeddedDocumentField(fiftyone.core.metadata.ImageMetadata)\n",
       "    detections:   fiftyone.core.fields.EmbeddedDocumentField(fiftyone.core.labels.Detection)\n",
       "    uniqueness:   fiftyone.core.fields.FloatField\n",
       "View stages:\n",
       "    1. ToFrames(config={'sample_frames': True})\n",
       "    2. ToPatches(field='detections', config=None)"
      ]
     },
     "execution_count": 15,
     "metadata": {},
     "output_type": "execute_result"
    }
   ],
   "source": [
    "view"
   ]
  },
  {
   "cell_type": "code",
   "execution_count": 16,
   "metadata": {},
   "outputs": [
    {
     "name": "stdout",
     "output_type": "stream",
     "text": [
      " 100% |███████████| 149049/149049 [53.2s elapsed, 0s remaining, 3.0K samples/s]       \n"
     ]
    }
   ],
   "source": [
    "data=patches_dataset.to_dict()"
   ]
  },
  {
   "cell_type": "code",
   "execution_count": 17,
   "metadata": {},
   "outputs": [
    {
     "data": {
      "text/plain": [
       "{'_id': {'$oid': '64d38f5e80960196cf7f2bf9'},\n",
       " '_cls': 'Detection',\n",
       " 'attributes': {},\n",
       " 'tags': [],\n",
       " 'label': 'cellular_telephone',\n",
       " 'bounding_box': [0.7294583,\n",
       "  0.00023257956,\n",
       "  0.08345804000000001,\n",
       "  0.15950665044],\n",
       " 'confidence': 0.93284637,\n",
       " 'index': 0}"
      ]
     },
     "execution_count": 17,
     "metadata": {},
     "output_type": "execute_result"
    }
   ],
   "source": [
    "x=data['samples'][0]['detections']\n",
    "type(x)\n",
    "# set(x)\n",
    "x"
   ]
  },
  {
   "cell_type": "code",
   "execution_count": 18,
   "metadata": {},
   "outputs": [
    {
     "name": "stdout",
     "output_type": "stream",
     "text": [
      " 100% |███████████| 149049/149049 [1.1m elapsed, 0s remaining, 2.0K samples/s]       \n"
     ]
    }
   ],
   "source": [
    "x=fo.Dataset.from_dict(data)"
   ]
  },
  {
   "cell_type": "code",
   "execution_count": 19,
   "metadata": {},
   "outputs": [],
   "source": [
    "for sample in x:\n",
    "    if sample.tags:\n",
    "        print(sample.tags, end=' ')\n",
    "    # if sample.detections.tags:\n",
    "    #     print(sample.detections.tags, end=' ')"
   ]
  },
  {
   "cell_type": "code",
   "execution_count": 20,
   "metadata": {},
   "outputs": [],
   "source": [
    "# type(x)\n",
    "# len(x)"
   ]
  },
  {
   "cell_type": "code",
   "execution_count": null,
   "metadata": {},
   "outputs": [],
   "source": []
  },
  {
   "cell_type": "code",
   "execution_count": 24,
   "metadata": {},
   "outputs": [
    {
     "name": "stdout",
     "output_type": "stream",
     "text": [
      "Directory '/datasets/Milly/object_labels' already exists; export will be merged with existing files\n"
     ]
    },
    {
     "ename": "AttributeError",
     "evalue": "'NoneType' object has no attribute 'items'",
     "output_type": "error",
     "traceback": [
      "\u001b[0;31m---------------------------------------------------------------------------\u001b[0m",
      "\u001b[0;31mAttributeError\u001b[0m                            Traceback (most recent call last)",
      "\u001b[0;32m/tmp/ipykernel_2007994/1513583931.py\u001b[0m in \u001b[0;36m?\u001b[0;34m()\u001b[0m\n\u001b[0;32m----> 1\u001b[0;31m patches_dataset.export(\n\u001b[0m\u001b[1;32m      2\u001b[0m     \u001b[0mexport_dir\u001b[0m\u001b[0;34m=\u001b[0m\u001b[0mexport_dataset\u001b[0m\u001b[0;34m,\u001b[0m\u001b[0;34m\u001b[0m\u001b[0;34m\u001b[0m\u001b[0m\n\u001b[1;32m      3\u001b[0m     \u001b[0mdataset_type\u001b[0m\u001b[0;34m=\u001b[0m\u001b[0mFiftyOneVideoLabelsDataset\u001b[0m\u001b[0;34m,\u001b[0m\u001b[0;34m\u001b[0m\u001b[0;34m\u001b[0m\u001b[0m\n\u001b[1;32m      4\u001b[0m     \u001b[0mlabel_field\u001b[0m\u001b[0;34m=\u001b[0m\u001b[0;34m\"detections\"\u001b[0m\u001b[0;34m,\u001b[0m\u001b[0;34m\u001b[0m\u001b[0;34m\u001b[0m\u001b[0m\n",
      "\u001b[0;32m~/miniconda3/envs/ptg/lib/python3.10/site-packages/fiftyone/core/collections.py\u001b[0m in \u001b[0;36m?\u001b[0;34m(self, export_dir, dataset_type, data_path, labels_path, export_media, rel_dir, dataset_exporter, label_field, frame_labels_field, overwrite, **kwargs)\u001b[0m\n\u001b[1;32m   8110\u001b[0m             \u001b[0marchive_path\u001b[0m \u001b[0;34m=\u001b[0m \u001b[0mexport_dir\u001b[0m\u001b[0;34m\u001b[0m\u001b[0;34m\u001b[0m\u001b[0m\n\u001b[1;32m   8111\u001b[0m             \u001b[0mexport_dir\u001b[0m\u001b[0;34m,\u001b[0m \u001b[0m_\u001b[0m \u001b[0;34m=\u001b[0m \u001b[0metau\u001b[0m\u001b[0;34m.\u001b[0m\u001b[0msplit_archive\u001b[0m\u001b[0;34m(\u001b[0m\u001b[0marchive_path\u001b[0m\u001b[0;34m)\u001b[0m\u001b[0;34m\u001b[0m\u001b[0;34m\u001b[0m\u001b[0m\n\u001b[1;32m   8112\u001b[0m \u001b[0;34m\u001b[0m\u001b[0m\n\u001b[1;32m   8113\u001b[0m         \u001b[0;31m# Perform the export\u001b[0m\u001b[0;34m\u001b[0m\u001b[0;34m\u001b[0m\u001b[0m\n\u001b[0;32m-> 8114\u001b[0;31m         _export(\n\u001b[0m\u001b[1;32m   8115\u001b[0m             \u001b[0mself\u001b[0m\u001b[0;34m,\u001b[0m\u001b[0;34m\u001b[0m\u001b[0;34m\u001b[0m\u001b[0m\n\u001b[1;32m   8116\u001b[0m             \u001b[0mexport_dir\u001b[0m\u001b[0;34m=\u001b[0m\u001b[0mexport_dir\u001b[0m\u001b[0;34m,\u001b[0m\u001b[0;34m\u001b[0m\u001b[0;34m\u001b[0m\u001b[0m\n\u001b[1;32m   8117\u001b[0m             \u001b[0mdataset_type\u001b[0m\u001b[0;34m=\u001b[0m\u001b[0mdataset_type\u001b[0m\u001b[0;34m,\u001b[0m\u001b[0;34m\u001b[0m\u001b[0;34m\u001b[0m\u001b[0m\n",
      "\u001b[0;32m~/miniconda3/envs/ptg/lib/python3.10/site-packages/fiftyone/core/collections.py\u001b[0m in \u001b[0;36m?\u001b[0;34m(sample_collection, export_dir, dataset_type, data_path, labels_path, export_media, rel_dir, dataset_exporter, label_field, frame_labels_field, overwrite, **kwargs)\u001b[0m\n\u001b[1;32m  10643\u001b[0m             \u001b[0mdataset_exporter\u001b[0m\u001b[0;34m=\u001b[0m\u001b[0mdataset_exporter\u001b[0m\u001b[0;34m,\u001b[0m\u001b[0;34m\u001b[0m\u001b[0;34m\u001b[0m\u001b[0m\n\u001b[1;32m  10644\u001b[0m             \u001b[0mallow_coercion\u001b[0m\u001b[0;34m=\u001b[0m\u001b[0;32mTrue\u001b[0m\u001b[0;34m,\u001b[0m\u001b[0;34m\u001b[0m\u001b[0;34m\u001b[0m\u001b[0m\n\u001b[1;32m  10645\u001b[0m             \u001b[0mrequired\u001b[0m\u001b[0;34m=\u001b[0m\u001b[0;32mFalse\u001b[0m\u001b[0;34m,\u001b[0m\u001b[0;34m\u001b[0m\u001b[0;34m\u001b[0m\u001b[0m\n\u001b[1;32m  10646\u001b[0m         )\n\u001b[0;32m> 10647\u001b[0;31m         frame_labels_field = sample_collection._parse_frame_labels_field(\n\u001b[0m\u001b[1;32m  10648\u001b[0m             \u001b[0mframe_labels_field\u001b[0m\u001b[0;34m,\u001b[0m\u001b[0;34m\u001b[0m\u001b[0;34m\u001b[0m\u001b[0m\n\u001b[1;32m  10649\u001b[0m             \u001b[0mdataset_exporter\u001b[0m\u001b[0;34m=\u001b[0m\u001b[0mdataset_exporter\u001b[0m\u001b[0;34m,\u001b[0m\u001b[0;34m\u001b[0m\u001b[0;34m\u001b[0m\u001b[0m\n\u001b[1;32m  10650\u001b[0m             \u001b[0mallow_coercion\u001b[0m\u001b[0;34m=\u001b[0m\u001b[0;32mTrue\u001b[0m\u001b[0;34m,\u001b[0m\u001b[0;34m\u001b[0m\u001b[0;34m\u001b[0m\u001b[0m\n",
      "\u001b[0;32m~/miniconda3/envs/ptg/lib/python3.10/site-packages/fiftyone/core/collections.py\u001b[0m in \u001b[0;36m?\u001b[0;34m(self, frame_labels_field, dataset_exporter, allow_coercion, force_dict, required)\u001b[0m\n\u001b[1;32m   9503\u001b[0m         \u001b[0mallow_coercion\u001b[0m\u001b[0;34m=\u001b[0m\u001b[0;32mFalse\u001b[0m\u001b[0;34m,\u001b[0m\u001b[0;34m\u001b[0m\u001b[0;34m\u001b[0m\u001b[0m\n\u001b[1;32m   9504\u001b[0m         \u001b[0mforce_dict\u001b[0m\u001b[0;34m=\u001b[0m\u001b[0;32mFalse\u001b[0m\u001b[0;34m,\u001b[0m\u001b[0;34m\u001b[0m\u001b[0;34m\u001b[0m\u001b[0m\n\u001b[1;32m   9505\u001b[0m         \u001b[0mrequired\u001b[0m\u001b[0;34m=\u001b[0m\u001b[0;32mFalse\u001b[0m\u001b[0;34m,\u001b[0m\u001b[0;34m\u001b[0m\u001b[0;34m\u001b[0m\u001b[0m\n\u001b[1;32m   9506\u001b[0m     ):\n\u001b[0;32m-> 9507\u001b[0;31m         return _parse_frame_labels_field(\n\u001b[0m\u001b[1;32m   9508\u001b[0m             \u001b[0mself\u001b[0m\u001b[0;34m,\u001b[0m\u001b[0;34m\u001b[0m\u001b[0;34m\u001b[0m\u001b[0m\n\u001b[1;32m   9509\u001b[0m             \u001b[0mframe_labels_field\u001b[0m\u001b[0;34m,\u001b[0m\u001b[0;34m\u001b[0m\u001b[0;34m\u001b[0m\u001b[0m\n\u001b[1;32m   9510\u001b[0m             \u001b[0mdataset_exporter\u001b[0m\u001b[0;34m=\u001b[0m\u001b[0mdataset_exporter\u001b[0m\u001b[0;34m,\u001b[0m\u001b[0;34m\u001b[0m\u001b[0;34m\u001b[0m\u001b[0m\n",
      "\u001b[0;32m~/miniconda3/envs/ptg/lib/python3.10/site-packages/fiftyone/core/collections.py\u001b[0m in \u001b[0;36m?\u001b[0;34m(sample_collection, frame_labels_field, dataset_exporter, allow_coercion, force_dict, required)\u001b[0m\n\u001b[1;32m   9939\u001b[0m     \u001b[0;32mif\u001b[0m \u001b[0metau\u001b[0m\u001b[0;34m.\u001b[0m\u001b[0mis_container\u001b[0m\u001b[0;34m(\u001b[0m\u001b[0mframe_labels_field\u001b[0m\u001b[0;34m)\u001b[0m\u001b[0;34m:\u001b[0m\u001b[0;34m\u001b[0m\u001b[0;34m\u001b[0m\u001b[0m\n\u001b[1;32m   9940\u001b[0m         \u001b[0;32mreturn\u001b[0m \u001b[0;34m{\u001b[0m\u001b[0mf\u001b[0m\u001b[0;34m:\u001b[0m \u001b[0mf\u001b[0m \u001b[0;32mfor\u001b[0m \u001b[0mf\u001b[0m \u001b[0;32min\u001b[0m \u001b[0mframe_labels_field\u001b[0m\u001b[0;34m}\u001b[0m\u001b[0;34m\u001b[0m\u001b[0;34m\u001b[0m\u001b[0m\n\u001b[1;32m   9941\u001b[0m \u001b[0;34m\u001b[0m\u001b[0m\n\u001b[1;32m   9942\u001b[0m     \u001b[0;32mif\u001b[0m \u001b[0mframe_labels_field\u001b[0m \u001b[0;32mis\u001b[0m \u001b[0;32mNone\u001b[0m \u001b[0;32mand\u001b[0m \u001b[0mdataset_exporter\u001b[0m \u001b[0;32mis\u001b[0m \u001b[0;32mnot\u001b[0m \u001b[0;32mNone\u001b[0m\u001b[0;34m:\u001b[0m\u001b[0;34m\u001b[0m\u001b[0;34m\u001b[0m\u001b[0m\n\u001b[0;32m-> 9943\u001b[0;31m         frame_labels_field = _get_default_frame_label_fields_for_exporter(\n\u001b[0m\u001b[1;32m   9944\u001b[0m             \u001b[0msample_collection\u001b[0m\u001b[0;34m,\u001b[0m\u001b[0;34m\u001b[0m\u001b[0;34m\u001b[0m\u001b[0m\n\u001b[1;32m   9945\u001b[0m             \u001b[0mdataset_exporter\u001b[0m\u001b[0;34m,\u001b[0m\u001b[0;34m\u001b[0m\u001b[0;34m\u001b[0m\u001b[0m\n\u001b[1;32m   9946\u001b[0m             \u001b[0mallow_coercion\u001b[0m\u001b[0;34m=\u001b[0m\u001b[0mallow_coercion\u001b[0m\u001b[0;34m,\u001b[0m\u001b[0;34m\u001b[0m\u001b[0;34m\u001b[0m\u001b[0m\n",
      "\u001b[0;32m~/miniconda3/envs/ptg/lib/python3.10/site-packages/fiftyone/core/collections.py\u001b[0m in \u001b[0;36m?\u001b[0;34m(sample_collection, dataset_exporter, allow_coercion, required)\u001b[0m\n\u001b[1;32m  10036\u001b[0m \u001b[0;34m\u001b[0m\u001b[0m\n\u001b[1;32m  10037\u001b[0m     \u001b[0mmedia_type\u001b[0m \u001b[0;34m=\u001b[0m \u001b[0msample_collection\u001b[0m\u001b[0;34m.\u001b[0m\u001b[0mmedia_type\u001b[0m\u001b[0;34m\u001b[0m\u001b[0;34m\u001b[0m\u001b[0m\n\u001b[1;32m  10038\u001b[0m     \u001b[0mframe_label_schema\u001b[0m \u001b[0;34m=\u001b[0m \u001b[0msample_collection\u001b[0m\u001b[0;34m.\u001b[0m\u001b[0m_get_frame_label_field_schema\u001b[0m\u001b[0;34m(\u001b[0m\u001b[0;34m)\u001b[0m\u001b[0;34m\u001b[0m\u001b[0;34m\u001b[0m\u001b[0m\n\u001b[1;32m  10039\u001b[0m \u001b[0;34m\u001b[0m\u001b[0m\n\u001b[0;32m> 10040\u001b[0;31m     frame_labels_field_or_dict = _get_fields_with_types(\n\u001b[0m\u001b[1;32m  10041\u001b[0m         \u001b[0mmedia_type\u001b[0m\u001b[0;34m,\u001b[0m\u001b[0;34m\u001b[0m\u001b[0;34m\u001b[0m\u001b[0m\n\u001b[1;32m  10042\u001b[0m         \u001b[0mframe_label_schema\u001b[0m\u001b[0;34m,\u001b[0m\u001b[0;34m\u001b[0m\u001b[0;34m\u001b[0m\u001b[0m\n\u001b[1;32m  10043\u001b[0m         \u001b[0mframe_labels_cls\u001b[0m\u001b[0;34m,\u001b[0m\u001b[0;34m\u001b[0m\u001b[0;34m\u001b[0m\u001b[0m\n",
      "\u001b[0;32m~/miniconda3/envs/ptg/lib/python3.10/site-packages/fiftyone/core/collections.py\u001b[0m in \u001b[0;36m?\u001b[0;34m(media_type, label_schema, label_cls, frames, allow_coercion)\u001b[0m\n\u001b[1;32m  10071\u001b[0m         )\n\u001b[1;32m  10072\u001b[0m \u001b[0;34m\u001b[0m\u001b[0m\n\u001b[1;32m  10073\u001b[0m     \u001b[0mlabels_dict\u001b[0m \u001b[0;34m=\u001b[0m \u001b[0;34m{\u001b[0m\u001b[0;34m}\u001b[0m\u001b[0;34m\u001b[0m\u001b[0;34m\u001b[0m\u001b[0m\n\u001b[1;32m  10074\u001b[0m     \u001b[0;32mfor\u001b[0m \u001b[0mname\u001b[0m\u001b[0;34m,\u001b[0m \u001b[0m_label_cls\u001b[0m \u001b[0;32min\u001b[0m \u001b[0mlabel_cls\u001b[0m\u001b[0;34m.\u001b[0m\u001b[0mitems\u001b[0m\u001b[0;34m(\u001b[0m\u001b[0;34m)\u001b[0m\u001b[0;34m:\u001b[0m\u001b[0;34m\u001b[0m\u001b[0;34m\u001b[0m\u001b[0m\n\u001b[0;32m> 10075\u001b[0;31m         field = _get_field_with_type(\n\u001b[0m\u001b[1;32m  10076\u001b[0m             \u001b[0mmedia_type\u001b[0m\u001b[0;34m,\u001b[0m\u001b[0;34m\u001b[0m\u001b[0;34m\u001b[0m\u001b[0m\n\u001b[1;32m  10077\u001b[0m             \u001b[0mlabel_schema\u001b[0m\u001b[0;34m,\u001b[0m\u001b[0;34m\u001b[0m\u001b[0;34m\u001b[0m\u001b[0m\n\u001b[1;32m  10078\u001b[0m             \u001b[0m_label_cls\u001b[0m\u001b[0;34m,\u001b[0m\u001b[0;34m\u001b[0m\u001b[0;34m\u001b[0m\u001b[0m\n",
      "\u001b[0;32m~/miniconda3/envs/ptg/lib/python3.10/site-packages/fiftyone/core/collections.py\u001b[0m in \u001b[0;36m?\u001b[0;34m(media_type, label_schema, label_cls, frames, allow_coercion)\u001b[0m\n\u001b[1;32m  10088\u001b[0m def _get_field_with_type(\n\u001b[1;32m  10089\u001b[0m     \u001b[0mmedia_type\u001b[0m\u001b[0;34m,\u001b[0m \u001b[0mlabel_schema\u001b[0m\u001b[0;34m,\u001b[0m \u001b[0mlabel_cls\u001b[0m\u001b[0;34m,\u001b[0m \u001b[0mframes\u001b[0m\u001b[0;34m=\u001b[0m\u001b[0;32mFalse\u001b[0m\u001b[0;34m,\u001b[0m \u001b[0mallow_coercion\u001b[0m\u001b[0;34m=\u001b[0m\u001b[0;32mFalse\u001b[0m\u001b[0;34m\u001b[0m\u001b[0;34m\u001b[0m\u001b[0m\n\u001b[1;32m  10090\u001b[0m ):\n\u001b[0;32m> 10091\u001b[0;31m     \u001b[0mfield\u001b[0m \u001b[0;34m=\u001b[0m \u001b[0m_get_matching_label_field\u001b[0m\u001b[0;34m(\u001b[0m\u001b[0mlabel_schema\u001b[0m\u001b[0;34m,\u001b[0m \u001b[0mlabel_cls\u001b[0m\u001b[0;34m)\u001b[0m\u001b[0;34m\u001b[0m\u001b[0;34m\u001b[0m\u001b[0m\n\u001b[0m\u001b[1;32m  10092\u001b[0m     \u001b[0;32mif\u001b[0m \u001b[0mfield\u001b[0m \u001b[0;32mis\u001b[0m \u001b[0;32mnot\u001b[0m \u001b[0;32mNone\u001b[0m\u001b[0;34m:\u001b[0m\u001b[0;34m\u001b[0m\u001b[0;34m\u001b[0m\u001b[0m\n\u001b[1;32m  10093\u001b[0m         \u001b[0;32mreturn\u001b[0m \u001b[0mfield\u001b[0m\u001b[0;34m\u001b[0m\u001b[0;34m\u001b[0m\u001b[0m\n\u001b[1;32m  10094\u001b[0m \u001b[0;34m\u001b[0m\u001b[0m\n",
      "\u001b[0;32m~/miniconda3/envs/ptg/lib/python3.10/site-packages/fiftyone/core/collections.py\u001b[0m in \u001b[0;36m?\u001b[0;34m(label_schema, label_type_or_types)\u001b[0m\n\u001b[1;32m  10141\u001b[0m     \u001b[0;32mif\u001b[0m \u001b[0metau\u001b[0m\u001b[0;34m.\u001b[0m\u001b[0mis_container\u001b[0m\u001b[0;34m(\u001b[0m\u001b[0mlabel_type_or_types\u001b[0m\u001b[0;34m)\u001b[0m\u001b[0;34m:\u001b[0m\u001b[0;34m\u001b[0m\u001b[0;34m\u001b[0m\u001b[0m\n\u001b[1;32m  10142\u001b[0m         \u001b[0mlabel_type_or_types\u001b[0m \u001b[0;34m=\u001b[0m \u001b[0mtuple\u001b[0m\u001b[0;34m(\u001b[0m\u001b[0mlabel_type_or_types\u001b[0m\u001b[0;34m)\u001b[0m\u001b[0;34m\u001b[0m\u001b[0;34m\u001b[0m\u001b[0m\n\u001b[1;32m  10143\u001b[0m \u001b[0;34m\u001b[0m\u001b[0m\n\u001b[1;32m  10144\u001b[0m     \u001b[0mvalid_fields\u001b[0m \u001b[0;34m=\u001b[0m \u001b[0;34m[\u001b[0m\u001b[0;34m]\u001b[0m\u001b[0;34m\u001b[0m\u001b[0;34m\u001b[0m\u001b[0m\n\u001b[0;32m> 10145\u001b[0;31m     \u001b[0;32mfor\u001b[0m \u001b[0mfield\u001b[0m\u001b[0;34m,\u001b[0m \u001b[0mfield_type\u001b[0m \u001b[0;32min\u001b[0m \u001b[0mlabel_schema\u001b[0m\u001b[0;34m.\u001b[0m\u001b[0mitems\u001b[0m\u001b[0;34m(\u001b[0m\u001b[0;34m)\u001b[0m\u001b[0;34m:\u001b[0m\u001b[0;34m\u001b[0m\u001b[0;34m\u001b[0m\u001b[0m\n\u001b[0m\u001b[1;32m  10146\u001b[0m         \u001b[0;32mif\u001b[0m \u001b[0missubclass\u001b[0m\u001b[0;34m(\u001b[0m\u001b[0mfield_type\u001b[0m\u001b[0;34m.\u001b[0m\u001b[0mdocument_type\u001b[0m\u001b[0;34m,\u001b[0m \u001b[0mlabel_type_or_types\u001b[0m\u001b[0;34m)\u001b[0m\u001b[0;34m:\u001b[0m\u001b[0;34m\u001b[0m\u001b[0;34m\u001b[0m\u001b[0m\n\u001b[1;32m  10147\u001b[0m             \u001b[0mvalid_fields\u001b[0m\u001b[0;34m.\u001b[0m\u001b[0mappend\u001b[0m\u001b[0;34m(\u001b[0m\u001b[0mfield\u001b[0m\u001b[0;34m)\u001b[0m\u001b[0;34m\u001b[0m\u001b[0;34m\u001b[0m\u001b[0m\n\u001b[1;32m  10148\u001b[0m \u001b[0;34m\u001b[0m\u001b[0m\n",
      "\u001b[0;31mAttributeError\u001b[0m: 'NoneType' object has no attribute 'items'"
     ]
    }
   ],
   "source": [
    "patches_dataset.export(\n",
    "    export_dir=export_dataset,\n",
    "    dataset_type=FiftyOneVideoLabelsDataset,\n",
    "    label_field=\"detections\",\n",
    "    export_media=\"symlink\",\n",
    ")"
   ]
  },
  {
   "cell_type": "code",
   "execution_count": 25,
   "metadata": {},
   "outputs": [
    {
     "name": "stdout",
     "output_type": "stream",
     "text": [
      "total 37M\n",
      "drwxrwxr-x 2 bea bea 4.0K Aug  4 09:07 \u001b[0m\u001b[01;34m.\u001b[0m/\n",
      "drwxrwxr-x 4 bea bea 4.0K Aug  4 09:07 \u001b[01;34m..\u001b[0m/\n",
      "-rw-rw-r-- 1 bea bea 4.9M Aug  4 09:07 A_pin_mevo_0_video-0000_pv.json\n",
      "-rw-rw-r-- 1 bea bea 1.2M Aug  4 09:07 A_pin_mevo_0_video-0001_pv.json\n",
      "-rw-rw-r-- 1 bea bea 3.6M Aug  4 09:07 A_pin_mevo_0_video-0002_pv.json\n",
      "-rw-rw-r-- 1 bea bea 3.7M Aug  4 09:07 A_pin_mevo_0_video-0003_pv.json\n",
      "-rw-rw-r-- 1 bea bea 4.3M Aug  4 09:07 A_pin_mevo_0_video-0004_pv.json\n",
      "-rw-rw-r-- 1 bea bea 781K Aug  4 09:07 A_pin_mevo_0_video-0005_pv.json\n",
      "-rw-rw-r-- 1 bea bea 5.6M Aug  4 09:07 A_pin_mevo_0_video-0006_pv.json\n",
      "-rw-rw-r-- 1 bea bea 3.9M Aug  4 09:07 A_pin_mevo_0_video-0007_pv.json\n",
      "-rw-rw-r-- 1 bea bea 4.0M Aug  4 09:07 A_pin_mevo_0_video-0008_pv.json\n",
      "-rw-rw-r-- 1 bea bea 4.8M Aug  4 09:07 A_pin_mevo_0_video-0009_pv.json\n"
     ]
    }
   ],
   "source": [
    "ls /datasets/Milly/object_labels/labels -lah"
   ]
  },
  {
   "cell_type": "code",
   "execution_count": null,
   "metadata": {},
   "outputs": [],
   "source": []
  }
 ],
 "metadata": {
  "kernelspec": {
   "display_name": "ptg",
   "language": "python",
   "name": "python3"
  },
  "language_info": {
   "codemirror_mode": {
    "name": "ipython",
    "version": 3
   },
   "file_extension": ".py",
   "mimetype": "text/x-python",
   "name": "python",
   "nbconvert_exporter": "python",
   "pygments_lexer": "ipython3",
   "version": "3.10.12"
  },
  "orig_nbformat": 4
 },
 "nbformat": 4,
 "nbformat_minor": 2
}
